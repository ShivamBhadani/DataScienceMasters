{
 "cells": [
  {
   "attachments": {},
   "cell_type": "markdown",
   "metadata": {},
   "source": [
    "### Q1. Explain Class and Object with respect to Object-Oriented Programming. Give a suitable example.\n",
    "#### Class and Object are two fundamental concepts of Object-Oriented Programming (OOP).\n",
    "\n",
    "A class is a blueprint or a template for creating objects. It defines a set of properties (attributes) and methods (functions) that objects created from the class will possess.\n",
    "\n",
    "An object is an instance of a class. It has its own state (values of its attributes) and behavior (execution of its methods).\n",
    "\n",
    "For example, consider a class named \"Person\". It can have attributes like name, age, and address, and methods like introduce() and walk(). Each person you create from this class will have its own unique name, age, and address, and can execute the introduce() and walk() methods in their own way.\n",
    "\n",
    "In summary, a class is a blueprint, while an object is an instance created from the blueprint."
   ]
  },
  {
   "attachments": {},
   "cell_type": "markdown",
   "metadata": {},
   "source": [
    "### Q2. Name the four pillars of OOPs.\n",
    "#### The four pillars of Object-Oriented Programming (OOP) are:\n",
    "\n",
    "Abstraction: Abstraction means hiding the complexity of an object and only showing the relevant information to the user.\n",
    "\n",
    "Encapsulation: Encapsulation means wrapping the data (attributes) and the functions (methods) that operate on that data within a single unit (class).\n",
    "\n",
    "Inheritance: Inheritance allows creating new classes (child classes) that are derived from existing classes (parent classes). The child class inherits the attributes and methods of the parent class, and can also add new attributes and methods of its own.\n",
    "\n",
    "Polymorphism: Polymorphism allows objects of different classes to be treated as objects of a common class. This enables the implementation of methods in different ways for different classes, making the code more flexible and reusable."
   ]
  },
  {
   "attachments": {},
   "cell_type": "markdown",
   "metadata": {},
   "source": [
    "### Q3. Explain why the __init__() function is used. Give a suitable example.\n",
    " The __init__ function is a special method in Python classes and is used to initialize objects. It is automatically called when an object is created from a class and is used to set the initial state of the object.\n",
    "\n",
    "The __init__ method is defined in the class definition and takes the first argument self, which refers to the object being created. You can also include additional arguments that you can use to initialize the object's attributes.\n",
    "\n",
    "Here's an example of how the __init__ function can be used in a class:\n"
   ]
  },
  {
   "cell_type": "code",
   "execution_count": 6,
   "metadata": {},
   "outputs": [
    {
     "name": "stdout",
     "output_type": "stream",
     "text": [
      "Toyota\n",
      "Camry\n",
      "2020\n"
     ]
    }
   ],
   "source": [
    "class Car:\n",
    "    def __init__(self, make, model, year):\n",
    "        self.make = make\n",
    "        self.model = model\n",
    "        self.year = year\n",
    "        \n",
    "my_car = Car(\"Toyota\", \"Camry\", 2020)\n",
    "print(my_car.make)\n",
    "print(my_car.model)\n",
    "print(my_car.year)\n"
   ]
  },
  {
   "attachments": {},
   "cell_type": "markdown",
   "metadata": {},
   "source": [
    "In this example, when the Car object is created using my_car = Car(\"Toyota\", \"Camry\", 2020), the __init__ method is called automatically. The values \"Toyota\", \"Camry\", and 2020 are passed as arguments to initialize the attributes make, model, and year of the object my_car."
   ]
  },
  {
   "attachments": {},
   "cell_type": "markdown",
   "metadata": {},
   "source": [
    "### Q4. Why self is used in OOPs?\n",
    "The use of self in Object-Oriented Programming (OOP) refers to the instance of the class itself. When a method is called on an object, the object on which the method is called is automatically passed as the first argument to the method. In Python, this argument is conventionally named self."
   ]
  },
  {
   "attachments": {},
   "cell_type": "markdown",
   "metadata": {},
   "source": [
    "### Q5. What is inheritance? Give an example for each type of inheritance.\n",
    "Inheritance is a key concept in Object-Oriented Programming (OOP) that allows creating new classes (child classes) that are derived from existing classes (parent classes). The child class inherits the attributes and methods of the parent class, and can also add new attributes and methods of its own.\n",
    "\n",
    "There are several types of inheritance in OOP, including:\n",
    "\n",
    "Single Inheritance: In single inheritance, a child class inherits from only one parent class.\n",
    "Example:"
   ]
  },
  {
   "cell_type": "code",
   "execution_count": 7,
   "metadata": {},
   "outputs": [
    {
     "name": "stdout",
     "output_type": "stream",
     "text": [
      "Rufus is moving\n",
      "Rufus is barking\n"
     ]
    }
   ],
   "source": [
    "class Animal:\n",
    "    def __init__(self, name):\n",
    "        self.name = name\n",
    "        \n",
    "    def move(self):\n",
    "        print(f\"{self.name} is moving\")\n",
    "        \n",
    "class Dog(Animal):\n",
    "    def bark(self):\n",
    "        print(f\"{self.name} is barking\")\n",
    "\n",
    "dog = Dog(\"Rufus\")\n",
    "dog.move()\n",
    "dog.bark()\n"
   ]
  },
  {
   "attachments": {},
   "cell_type": "markdown",
   "metadata": {},
   "source": [
    "Multiple Inheritance: In multiple inheritance, a child class inherits from multiple parent classes.\n",
    "Example:"
   ]
  },
  {
   "cell_type": "code",
   "execution_count": 8,
   "metadata": {},
   "outputs": [
    {
     "name": "stdout",
     "output_type": "stream",
     "text": [
      "Nemo is moving\n",
      "Nemo is swimming\n",
      "Nemo is breathing underwater\n"
     ]
    }
   ],
   "source": [
    "class Animal:\n",
    "    def __init__(self, name):\n",
    "        self.name = name\n",
    "        \n",
    "    def move(self):\n",
    "        print(f\"{self.name} is moving\")\n",
    "        \n",
    "class Swimming:\n",
    "    def swim(self):\n",
    "        print(f\"{self.name} is swimming\")\n",
    "        \n",
    "class Fish(Animal, Swimming):\n",
    "    def breathe_underwater(self):\n",
    "        print(f\"{self.name} is breathing underwater\")\n",
    "\n",
    "fish = Fish(\"Nemo\")\n",
    "fish.move()\n",
    "fish.swim()\n",
    "fish.breathe_underwater()\n"
   ]
  },
  {
   "attachments": {},
   "cell_type": "markdown",
   "metadata": {},
   "source": [
    "Multi-level Inheritance: In multi-level inheritance, a child class inherits from a parent class, which itself inherits from another parent class"
   ]
  },
  {
   "cell_type": "code",
   "execution_count": 9,
   "metadata": {},
   "outputs": [
    {
     "name": "stdout",
     "output_type": "stream",
     "text": [
      "Dumbo is moving\n",
      "Dumbo is producing milk\n",
      "Dumbo is trumpeting\n"
     ]
    }
   ],
   "source": [
    "class Animal:\n",
    "    def __init__(self, name):\n",
    "        self.name = name\n",
    "        \n",
    "    def move(self):\n",
    "        print(f\"{self.name} is moving\")\n",
    "        \n",
    "class Mammal(Animal):\n",
    "    def produce_milk(self):\n",
    "        print(f\"{self.name} is producing milk\")\n",
    "        \n",
    "class Elephant(Mammal):\n",
    "    def trumpet(self):\n",
    "        print(f\"{self.name} is trumpeting\")\n",
    "\n",
    "elephant = Elephant(\"Dumbo\")\n",
    "elephant.move()\n",
    "elephant.produce_milk()\n",
    "elephant.trumpet()\n"
   ]
  },
  {
   "attachments": {},
   "cell_type": "markdown",
   "metadata": {},
   "source": [
    "Hierarchical Inheritance: In hierarchical inheritance, multiple child classes inherit from a single parent class."
   ]
  },
  {
   "cell_type": "code",
   "execution_count": 10,
   "metadata": {},
   "outputs": [
    {
     "name": "stdout",
     "output_type": "stream",
     "text": [
      "Simba is moving\n",
      "Simba is roaring\n",
      "Rajah is moving\n",
      "Rajah is roaring\n"
     ]
    }
   ],
   "source": [
    "class Animal:\n",
    "    def __init__(self, name):\n",
    "        self.name = name\n",
    "        \n",
    "    def move(self):\n",
    "        print(f\"{self.name} is moving\")\n",
    "        \n",
    "class Lion(Animal):\n",
    "    def roar(self):\n",
    "        print(f\"{self.name} is roaring\")\n",
    "        \n",
    "class Tiger(Animal):\n",
    "    def roar(self):\n",
    "        print(f\"{self.name} is roaring\")\n",
    "\n",
    "lion = Lion(\"Simba\")\n",
    "lion.move()\n",
    "lion.roar()\n",
    "\n",
    "tiger = Tiger(\"Rajah\")\n",
    "tiger.move()\n",
    "tiger.roar()\n"
   ]
  },
  {
   "cell_type": "code",
   "execution_count": null,
   "metadata": {},
   "outputs": [],
   "source": []
  }
 ],
 "metadata": {
  "kernelspec": {
   "display_name": "Python 3",
   "language": "python",
   "name": "python3"
  },
  "language_info": {
   "codemirror_mode": {
    "name": "ipython",
    "version": 3
   },
   "file_extension": ".py",
   "mimetype": "text/x-python",
   "name": "python",
   "nbconvert_exporter": "python",
   "pygments_lexer": "ipython3",
   "version": "3.10.6"
  },
  "orig_nbformat": 4,
  "vscode": {
   "interpreter": {
    "hash": "916dbcbb3f70747c44a77c7bcd40155683ae19c65e1c03b4aa3499c5328201f1"
   }
  }
 },
 "nbformat": 4,
 "nbformat_minor": 2
}
