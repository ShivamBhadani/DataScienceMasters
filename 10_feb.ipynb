{
 "cells": [
  {
   "attachments": {},
   "cell_type": "markdown",
   "metadata": {},
   "source": [
    "### Q1. Which function is used to open a file? What are the different modes of opening a file? Explain each mode of file opening."
   ]
  },
  {
   "attachments": {},
   "cell_type": "markdown",
   "metadata": {},
   "source": [
    "The open() function is used to open a file in Python. It takes two parameters - the name of the file, and the mode in which to open the file.\n",
    "\n",
    "The different modes of opening a file are:\n",
    "\n",
    "r (Read Mode): This is the default mode. It is used to read the contents of the file. If the file does not exist, an error will be raised.\n",
    "\n",
    "w (Write Mode): This mode is used to write to a file. If the file exists, its contents will be truncated. If the file does not exist, it will be created.\n",
    "\n",
    "a (Append Mode): This mode is used to append to an existing file. If the file does not exist, it will be created.\n",
    "\n",
    "x (Exclusive Creation Mode): This mode is used to create a new file. If the file already exists, an error will be raised.\n",
    "\n",
    "b (Binary Mode): This mode is used to open a file in binary mode.\n",
    "\n",
    "t (Text Mode): This mode is used to open a file in text mode. This is the default mode.\n",
    "\n",
    "\\+ (Read/Write Mode): This mode is used to open a file in both read and write mode."
   ]
  },
  {
   "attachments": {},
   "cell_type": "markdown",
   "metadata": {},
   "source": [
    "### Q2. Why close() function is used? Why is it important to close a file?\n",
    "The close() function is used to close a file after it has been opened using the open() function in Python. It is important to close a file after reading or writing to it because it frees up system resources that were used to keep the file open.\n",
    "\n",
    "When a file is opened, the operating system assigns certain resources to that file, such as a file handle. If these resources are not released properly, it can cause issues with the system's performance and stability."
   ]
  },
  {
   "attachments": {},
   "cell_type": "markdown",
   "metadata": {},
   "source": [
    "### Q3. Write a python program to create a text file. Write ‘I want to become a Data Scientist’ in that file. Then close the file. Open this file and read the content of the file."
   ]
  },
  {
   "cell_type": "code",
   "execution_count": 1,
   "metadata": {},
   "outputs": [
    {
     "name": "stdout",
     "output_type": "stream",
     "text": [
      "I want to become a Data Scientist\n"
     ]
    }
   ],
   "source": [
    "# create the file and write to it\n",
    "with open(\"my_file.txt\", \"w\") as file:\n",
    "    file.write(\"I want to become a Data Scientist\")\n",
    "    file.close()\n",
    "\n",
    "# read the contents of the file\n",
    "with open(\"my_file.txt\", \"r\") as file:\n",
    "    contents = file.read()\n",
    "    print(contents)"
   ]
  },
  {
   "attachments": {},
   "cell_type": "markdown",
   "metadata": {},
   "source": [
    "### Q4. Explain the following with python code: read(), readline() and readlines().\n",
    "read(): This method reads the entire contents of a file as a single string. It takes an optional argument that specifies the number of bytes to read. If no argument is specified, it reads the entire file.\n",
    "\n",
    "readline(): This method reads a single line from a file. If called again, it will read the next line, and so on.\n",
    "\n",
    "readlines(): This method reads all the lines of a file and returns them as a list of strings. Each string represents a single line of the file."
   ]
  },
  {
   "attachments": {},
   "cell_type": "markdown",
   "metadata": {},
   "source": [
    "### Q5. Explain why with statement is used with open(). What is the advantage of using with statement and open() together?\n",
    "The advantage of using the with statement and open() together is that it provides a clean and concise way to handle files, without having to worry about explicitly opening and closing the file. This helps to avoid mistakes and ensures that the file is always properly closed, even if an error occurs while processing the file. Using the with statement also helps to improve the readability of the code by clearly indicating the scope of the file object."
   ]
  },
  {
   "attachments": {},
   "cell_type": "markdown",
   "metadata": {},
   "source": [
    "### Q6. Explain the write() and writelines() functions. Give a suitable example.\n",
    "write(): This function is used to write a string to a file. It takes a single argument that specifies the string to write to the file. If the file already exists, the string is written to the end of the file. If the file does not exist, a new file is created with the specified name. \n",
    "\n",
    "writelines(): This function is used to write a list of strings to a file. Each string in the list represents a single line of the file. Here's an example:"
   ]
  }
 ],
 "metadata": {
  "kernelspec": {
   "display_name": "Python 3",
   "language": "python",
   "name": "python3"
  },
  "language_info": {
   "codemirror_mode": {
    "name": "ipython",
    "version": 3
   },
   "file_extension": ".py",
   "mimetype": "text/x-python",
   "name": "python",
   "nbconvert_exporter": "python",
   "pygments_lexer": "ipython3",
   "version": "3.10.6"
  },
  "orig_nbformat": 4,
  "vscode": {
   "interpreter": {
    "hash": "916dbcbb3f70747c44a77c7bcd40155683ae19c65e1c03b4aa3499c5328201f1"
   }
  }
 },
 "nbformat": 4,
 "nbformat_minor": 2
}
