{
 "cells": [
  {
   "cell_type": "markdown",
   "metadata": {},
   "source": [
    "### 1. Who developed Python Programming Language?"
   ]
  },
  {
   "attachments": {},
   "cell_type": "markdown",
   "metadata": {},
   "source": [
    "The programming language Python was developed by Guido van Rossum."
   ]
  },
  {
   "attachments": {},
   "cell_type": "markdown",
   "metadata": {},
   "source": [
    "### 2. Which type of Programming does Python support? "
   ]
  },
  {
   "attachments": {},
   "cell_type": "markdown",
   "metadata": {},
   "source": [
    "Python is a multi-paradigm programming language that supports several programming paradigms including procedural, object-oriented, functional, and aspect-oriented programming."
   ]
  },
  {
   "attachments": {},
   "cell_type": "markdown",
   "metadata": {},
   "source": [
    "### 3. Is Python case sensitive when dealing with identifiers?"
   ]
  },
  {
   "attachments": {},
   "cell_type": "markdown",
   "metadata": {},
   "source": [
    "Yes, Python is case sensitive when dealing with identifiers (variable names, function names, etc.). For example, example and Example are treated as two different identifiers in Python."
   ]
  },
  {
   "attachments": {},
   "cell_type": "markdown",
   "metadata": {},
   "source": [
    "### 4. What is the correct extension of the Python file?"
   ]
  },
  {
   "attachments": {},
   "cell_type": "markdown",
   "metadata": {},
   "source": [
    "source.py"
   ]
  },
  {
   "attachments": {},
   "cell_type": "markdown",
   "metadata": {},
   "source": [
    "### 5. Is Python code compiled or interpreted? "
   ]
  },
  {
   "attachments": {},
   "cell_type": "markdown",
   "metadata": {},
   "source": [
    "Python code is interpreted, not compiled. This means that the code is executed line by line, rather than being translated into machine code and executed directly by the computer's processor."
   ]
  },
  {
   "attachments": {},
   "cell_type": "markdown",
   "metadata": {},
   "source": [
    "### 6. Name a few blocks of code used to define in Python language? \n"
   ]
  },
  {
   "attachments": {},
   "cell_type": "markdown",
   "metadata": {},
   "source": [
    "In Python, there are several blocks of code used to define structures such as functions, loops, and conditional statements. Some common blocks of code in Python include:\n",
    "\n",
    "Functions: defined using the def keyword, functions are blocks of code that perform a specific task and can be called multiple times within a program.\n",
    "\n",
    "Loops: used for repeating a block of code multiple times, Python supports two types of loops - for loops and while loops.\n",
    "\n",
    "Conditional statements: used for controlling the flow of a program based on certain conditions, Python supports if, elif, and else statements.\n",
    "\n",
    "Classes: used for creating objects, classes are blocks of code that define a blueprint for creating objects and encapsulate data and methods.\n",
    "\n",
    "Try-Except blocks: used for handling exceptions and errors, these blocks allow the program to continue executing even if an error occurs, by catching the error and taking appropriate action."
   ]
  },
  {
   "attachments": {},
   "cell_type": "markdown",
   "metadata": {},
   "source": [
    "### 7. State a character used to give single-line comments in Python? "
   ]
  },
  {
   "attachments": {},
   "cell_type": "markdown",
   "metadata": {},
   "source": [
    "'#'--> the hash symbol"
   ]
  },
  {
   "attachments": {},
   "cell_type": "markdown",
   "metadata": {},
   "source": [
    "### 8. Mention functions which can help us to find the version of python that we are currently working on?"
   ]
  },
  {
   "attachments": {},
   "cell_type": "markdown",
   "metadata": {},
   "source": [
    "In Python, two functions that can be used to find the version of Python that you are currently working on are sys.version and platform.python_version()"
   ]
  },
  {
   "attachments": {},
   "cell_type": "markdown",
   "metadata": {},
   "source": [
    "### 9. Python supports the creation of anonymous functions at runtime, using a construct called \n"
   ]
  },
  {
   "attachments": {},
   "cell_type": "markdown",
   "metadata": {},
   "source": [
    "\"lambda\"."
   ]
  },
  {
   "attachments": {},
   "cell_type": "markdown",
   "metadata": {},
   "source": [
    "### 10. What does pip stand for python? "
   ]
  },
  {
   "attachments": {},
   "cell_type": "markdown",
   "metadata": {},
   "source": [
    "The abbreviation \"pip\" stands for \"Pip Installs Packages\". It is a package manager for Python that allows users to install and manage packages and libraries for their Python environment."
   ]
  },
  {
   "attachments": {},
   "cell_type": "markdown",
   "metadata": {},
   "source": [
    "### 11. Mention a few built-in functions in Python"
   ]
  },
  {
   "attachments": {},
   "cell_type": "markdown",
   "metadata": {},
   "source": [
    "There are many built-in functions in Python such as:\n",
    "\n",
    "print()\n",
    "len()\n",
    "str()\n",
    "int()\n",
    "float()\n",
    "type()\n",
    "max()\n",
    "min()\n",
    "abs()\n",
    "sum()\n",
    "range()\n",
    "sorted()\n",
    "enumerate()\n",
    "input()\n",
    "etc."
   ]
  },
  {
   "attachments": {},
   "cell_type": "markdown",
   "metadata": {},
   "source": [
    "### 12. What is the maximum possible length of an identifier in Python?"
   ]
  },
  {
   "attachments": {},
   "cell_type": "markdown",
   "metadata": {},
   "source": [
    "79 characters (maybe)"
   ]
  },
  {
   "attachments": {},
   "cell_type": "markdown",
   "metadata": {},
   "source": [
    "### 13. What are the benefits of using Python? "
   ]
  },
  {
   "attachments": {},
   "cell_type": "markdown",
   "metadata": {},
   "source": [
    "Python has several benefits which make it a popular programming language, including:\n",
    "\n",
    "Easy to learn and use: Python has a simple and clean syntax, making it easy to read and write.\n",
    "\n",
    "Versatile: Python is suitable for a wide range of applications, including web development, scientific computing, data analysis, artificial intelligence, and more.\n",
    "\n",
    "Large Community: Python has a large community of developers and users, who contribute to the development of the language and provide support to others.\n",
    "\n",
    "Plenty of Libraries and Tools: Python has a rich ecosystem of libraries and tools, which make it easy to perform various tasks without having to write code from scratch.\n",
    "\n",
    "Cross-Platform: Python runs on multiple platforms, including Windows, MacOS, and Linux, making it a good choice for cross-platform development.\n",
    "\n",
    "Dynamic Typing: Python uses dynamic typing, allowing for flexible and efficient development."
   ]
  },
  {
   "attachments": {},
   "cell_type": "markdown",
   "metadata": {},
   "source": [
    "### 14. How is memory managed in Python? \n"
   ]
  },
  {
   "attachments": {},
   "cell_type": "markdown",
   "metadata": {},
   "source": [
    "Memory in Python is managed by the Python Memory Manager, which is a component of the Python runtime system. The memory manager is responsible for allocating memory for Python objects, as well as freeing memory when it is no longer needed. Python uses a combination of reference counting and garbage collection to automatically manage memory and ensure that objects are automatically freed when they are no longer needed. The memory manager also provides advanced memory management features, such as memory-mapped files, memory-mapped arrays, and memory-mapped objects, to allow Python programs to efficiently work with large amounts of data."
   ]
  },
  {
   "attachments": {},
   "cell_type": "markdown",
   "metadata": {},
   "source": [
    "### 15. How to install Python on Windows and set path variables?"
   ]
  },
  {
   "attachments": {},
   "cell_type": "markdown",
   "metadata": {},
   "source": [
    "Go to the official Python website and download the latest version of Python for Windows.\n",
    "\n",
    "Double-click on the installer to start the installation process.\n",
    "\n",
    "Follow the on-screen instructions to complete the installation.\n",
    "\n",
    "Once the installation is complete, open the Command Prompt and check the version of Python installed by running the command \"python --version\".\n",
    "\n",
    "To set the path variables in Windows, follow these steps:\n",
    "\n",
    "Right-click on the Computer icon and select Properties.\n",
    "\n",
    "Click on Advanced system settings.\n",
    "\n",
    "Click on the Environment Variables button.\n",
    "\n",
    "In the System Variables section, scroll down and find the Path variable.\n",
    "\n",
    "Click on Edit.\n",
    "\n",
    "Add the location of the Python executable file, for example, \"C:\\Python3x\\Python3x\\python.exe\", to the Path variable.\n",
    "\n",
    "Click OK to save the changes.\n",
    "\n",
    "After setting the path variables, you should be able to run Python from any directory in the Command Prompt by typing \"python\""
   ]
  },
  {
   "attachments": {},
   "cell_type": "markdown",
   "metadata": {},
   "source": [
    "### 16. Is indentation required in python? \n"
   ]
  },
  {
   "attachments": {},
   "cell_type": "markdown",
   "metadata": {},
   "source": [
    "Yes, indentation is required in Python as it is used to define code blocks. Indentation determines the scope of the code block and helps to structure the code in a readable and organized manner."
   ]
  }
 ],
 "metadata": {
  "kernelspec": {
   "display_name": "Python 3",
   "language": "python",
   "name": "python3"
  },
  "language_info": {
   "name": "python",
   "version": "3.10.6"
  },
  "orig_nbformat": 4,
  "vscode": {
   "interpreter": {
    "hash": "916dbcbb3f70747c44a77c7bcd40155683ae19c65e1c03b4aa3499c5328201f1"
   }
  }
 },
 "nbformat": 4,
 "nbformat_minor": 2
}
